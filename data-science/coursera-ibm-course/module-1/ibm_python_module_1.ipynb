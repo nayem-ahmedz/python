{
  "nbformat": 4,
  "nbformat_minor": 0,
  "metadata": {
    "colab": {
      "provenance": []
    },
    "kernelspec": {
      "name": "python3",
      "display_name": "Python 3"
    },
    "language_info": {
      "name": "python"
    }
  },
  "cells": [
    {
      "cell_type": "markdown",
      "source": [
        "## **Data Types**"
      ],
      "metadata": {
        "id": "lVZEjwoRdaoO"
      }
    },
    {
      "cell_type": "markdown",
      "source": [
        "Three main types of data in python : int, float, str"
      ],
      "metadata": {
        "id": "WmfBLTZVb9qZ"
      }
    },
    {
      "cell_type": "code",
      "execution_count": 28,
      "metadata": {
        "colab": {
          "base_uri": "https://localhost:8080/"
        },
        "id": "sh9bMRTebyb8",
        "outputId": "4d626a67-cbcb-4fd9-f45d-aa1fad6e6fb5"
      },
      "outputs": [
        {
          "output_type": "stream",
          "name": "stdout",
          "text": [
            "5 6.5 Nayem\n"
          ]
        }
      ],
      "source": [
        "num1 = 5\n",
        "num2 = 6.5\n",
        "name = 'Nayem'\n",
        "\n",
        "print(num1, num2, name)"
      ]
    },
    {
      "cell_type": "markdown",
      "source": [
        "**how to check type of a data?**"
      ],
      "metadata": {
        "id": "kPMuCiHCdAI5"
      }
    },
    {
      "cell_type": "code",
      "source": [
        "print(type(num1))\n",
        "print(type(num2))\n",
        "print(type(name))"
      ],
      "metadata": {
        "colab": {
          "base_uri": "https://localhost:8080/"
        },
        "id": "0uMqXY3ndCyH",
        "outputId": "c097abb0-1714-490c-c701-a87282ddf490"
      },
      "execution_count": 29,
      "outputs": [
        {
          "output_type": "stream",
          "name": "stdout",
          "text": [
            "<class 'int'>\n",
            "<class 'float'>\n",
            "<class 'str'>\n"
          ]
        }
      ]
    },
    {
      "cell_type": "markdown",
      "source": [
        "**you can change the data type : its called type casting | type erosion**"
      ],
      "metadata": {
        "id": "ZHB2j_1hcVd3"
      }
    },
    {
      "cell_type": "code",
      "source": [
        "print(float(5))\n",
        "print(int(1.1))\n",
        "print(int('9'))\n",
        "# print(int('A')) # cause error\n",
        "\n",
        "print(int(False))"
      ],
      "metadata": {
        "colab": {
          "base_uri": "https://localhost:8080/"
        },
        "id": "zZbNzn1McZr2",
        "outputId": "f6f39ead-4c6d-4bdb-ff75-a54b13bda69f"
      },
      "execution_count": 31,
      "outputs": [
        {
          "output_type": "stream",
          "name": "stdout",
          "text": [
            "5.0\n",
            "1\n",
            "9\n",
            "0\n"
          ]
        }
      ]
    },
    {
      "cell_type": "markdown",
      "source": [
        "**Boolean Data type**"
      ],
      "metadata": {
        "id": "DbVKQiMweQ_f"
      }
    },
    {
      "cell_type": "code",
      "source": [
        "isDone = True\n",
        "isBusy = False\n",
        "print(isDone)\n",
        "\n",
        "print(int(isDone))\n",
        "print(int(isBusy))\n",
        "\n",
        "print(bool(1)) # True = 1 and False = 0"
      ],
      "metadata": {
        "colab": {
          "base_uri": "https://localhost:8080/"
        },
        "id": "diGr4COyeVKk",
        "outputId": "79c53670-b430-4d42-8845-5e04758246f9"
      },
      "execution_count": 30,
      "outputs": [
        {
          "output_type": "stream",
          "name": "stdout",
          "text": [
            "True\n",
            "1\n",
            "0\n",
            "True\n"
          ]
        }
      ]
    },
    {
      "cell_type": "markdown",
      "source": [
        "## **Expression and Variables**"
      ],
      "metadata": {
        "id": "RGImNTmvfaeC"
      }
    },
    {
      "cell_type": "code",
      "source": [
        "print(5+5)\n",
        "print(10-4)\n",
        "print(5*8)\n",
        "print(11/2) # return float value"
      ],
      "metadata": {
        "colab": {
          "base_uri": "https://localhost:8080/"
        },
        "id": "eEIj0WY3fejE",
        "outputId": "281cafb5-e3b3-4f50-e86b-35f8865108af"
      },
      "execution_count": 17,
      "outputs": [
        {
          "output_type": "stream",
          "name": "stdout",
          "text": [
            "10\n",
            "6\n",
            "40\n",
            "5.5\n"
          ]
        }
      ]
    },
    {
      "cell_type": "markdown",
      "source": [
        "**floor division : returns the quotient as an integer.**"
      ],
      "metadata": {
        "id": "33W7BTs6gHsH"
      }
    },
    {
      "cell_type": "code",
      "source": [
        "print(10/2) # 5.0\n",
        "\n",
        "# using double for slash\n",
        "print(10//2) # 5\n",
        "\n",
        "print(7/3) # 2.3333\n",
        "print(7//3) # 2"
      ],
      "metadata": {
        "colab": {
          "base_uri": "https://localhost:8080/"
        },
        "id": "6S8HJ-_4gRbB",
        "outputId": "426b03fb-9bd9-4114-a0ce-d9d1f75ef269"
      },
      "execution_count": 23,
      "outputs": [
        {
          "output_type": "stream",
          "name": "stdout",
          "text": [
            "5.0\n",
            "5\n",
            "2.3333333333333335\n",
            "2\n"
          ]
        }
      ]
    },
    {
      "cell_type": "markdown",
      "source": [
        "**variables**"
      ],
      "metadata": {
        "id": "PjpbzXvchher"
      }
    },
    {
      "cell_type": "code",
      "source": [
        "my_number = 5\n",
        "print(my_number)\n",
        "\n",
        "result = my_number * 5\n",
        "print(result)\n",
        "\n",
        "result = result / 2\n",
        "print(result)\n",
        "\n",
        "result = 25\n",
        "result = result // 2 # int division\n",
        "print(result)"
      ],
      "metadata": {
        "colab": {
          "base_uri": "https://localhost:8080/"
        },
        "id": "e1UPnhGPhlag",
        "outputId": "9313d92d-25c4-4d27-d5d3-4c59e8839c70"
      },
      "execution_count": 29,
      "outputs": [
        {
          "output_type": "stream",
          "name": "stdout",
          "text": [
            "5\n",
            "25\n",
            "12.5\n",
            "12\n"
          ]
        }
      ]
    },
    {
      "cell_type": "markdown",
      "source": [
        "## **String Operation**"
      ],
      "metadata": {
        "id": "DZ-UhTXvisLP"
      }
    },
    {
      "cell_type": "code",
      "source": [
        "name = 'Nayem Ahmed'\n",
        "print(name)"
      ],
      "metadata": {
        "colab": {
          "base_uri": "https://localhost:8080/"
        },
        "id": "5S-4gXUxiwXW",
        "outputId": "f4283de9-59f7-4bc4-badf-7ea02f7ae592"
      },
      "execution_count": 30,
      "outputs": [
        {
          "output_type": "stream",
          "name": "stdout",
          "text": [
            "Nayem Ahmed\n"
          ]
        }
      ]
    },
    {
      "cell_type": "code",
      "source": [
        "print(name[0])\n",
        "print(name[10])"
      ],
      "metadata": {
        "colab": {
          "base_uri": "https://localhost:8080/"
        },
        "id": "TV0clAgNjZat",
        "outputId": "01a41232-e45a-4cc6-8c12-c0d8b684c3bc"
      },
      "execution_count": 32,
      "outputs": [
        {
          "output_type": "stream",
          "name": "stdout",
          "text": [
            "N\n",
            "d\n"
          ]
        }
      ]
    },
    {
      "cell_type": "markdown",
      "source": [
        "**Can be accessed using negative number as well**"
      ],
      "metadata": {
        "id": "yjhoiMnejgJo"
      }
    },
    {
      "cell_type": "code",
      "source": [
        "print(name[-1]) # last character\n",
        "print(name[-11])"
      ],
      "metadata": {
        "colab": {
          "base_uri": "https://localhost:8080/"
        },
        "id": "UCEsR31_jkdC",
        "outputId": "ddaec868-2327-4531-db50-c75cf0a13971"
      },
      "execution_count": 35,
      "outputs": [
        {
          "output_type": "stream",
          "name": "stdout",
          "text": [
            "d\n",
            "N\n"
          ]
        }
      ]
    },
    {
      "cell_type": "code",
      "source": [
        "sentence = 'I am Nayem Ahmed'\n",
        "s_name = sentence[5:10]\n",
        "print(s_name)"
      ],
      "metadata": {
        "colab": {
          "base_uri": "https://localhost:8080/"
        },
        "id": "jaBDlPptlAXu",
        "outputId": "ea9a2811-0b82-458a-b86b-e9f10b79e326"
      },
      "execution_count": 36,
      "outputs": [
        {
          "output_type": "stream",
          "name": "stdout",
          "text": [
            "Nayem\n"
          ]
        }
      ]
    },
    {
      "cell_type": "code",
      "source": [
        "# String Stride\n",
        "stride = sentence[::2] # every second char\n",
        "print(stride)\n",
        "\n",
        "# slice\n",
        "slice = sentence[0:8:2] # every second char upto index 8-1 = 7\n",
        "print(slice)"
      ],
      "metadata": {
        "colab": {
          "base_uri": "https://localhost:8080/"
        },
        "id": "U_Sf6ErLlc76",
        "outputId": "0b709a54-c150-462d-92c7-5f1f6f986841"
      },
      "execution_count": 40,
      "outputs": [
        {
          "output_type": "stream",
          "name": "stdout",
          "text": [
            "Ia ae he\n",
            "Ia a\n"
          ]
        }
      ]
    },
    {
      "cell_type": "markdown",
      "source": [
        "find the lenght of string"
      ],
      "metadata": {
        "id": "5EsYiL1CmLsW"
      }
    },
    {
      "cell_type": "code",
      "source": [
        "print(len(sentence))"
      ],
      "metadata": {
        "colab": {
          "base_uri": "https://localhost:8080/"
        },
        "id": "o1cOLOABmOIx",
        "outputId": "037e40c4-dfa2-416c-cf00-bc8b8e6f6c83"
      },
      "execution_count": 41,
      "outputs": [
        {
          "output_type": "stream",
          "name": "stdout",
          "text": [
            "16\n"
          ]
        }
      ]
    },
    {
      "cell_type": "markdown",
      "source": [
        "**string Concatenating**"
      ],
      "metadata": {
        "id": "ib1jTx3rmkIE"
      }
    },
    {
      "cell_type": "code",
      "source": [
        "name = 'Nayem'\n",
        "statement = name + ' is a student'\n",
        "print(statement)\n",
        "\n",
        "# replicate / multiply a string\n",
        "print(3 * name)"
      ],
      "metadata": {
        "colab": {
          "base_uri": "https://localhost:8080/"
        },
        "id": "Q0kef6Hjmn1l",
        "outputId": "76b80edd-4f54-4f81-da20-1cce234e7708"
      },
      "execution_count": 44,
      "outputs": [
        {
          "output_type": "stream",
          "name": "stdout",
          "text": [
            "Nayem is a student\n",
            "NayemNayemNayem\n"
          ]
        }
      ]
    },
    {
      "cell_type": "markdown",
      "source": [
        "**string : immutable**"
      ],
      "metadata": {
        "id": "jnfaDafEnHOB"
      }
    },
    {
      "cell_type": "code",
      "source": [
        "name = 'Nayem'\n",
        "name[0] = 'S'\n",
        "print(name)"
      ],
      "metadata": {
        "colab": {
          "base_uri": "https://localhost:8080/",
          "height": 176
        },
        "id": "Sm2Uog7knLcx",
        "outputId": "7dbee001-bea9-4ef4-a728-0b2bb8f441a6"
      },
      "execution_count": 45,
      "outputs": [
        {
          "output_type": "error",
          "ename": "TypeError",
          "evalue": "'str' object does not support item assignment",
          "traceback": [
            "\u001b[0;31m---------------------------------------------------------------------------\u001b[0m",
            "\u001b[0;31mTypeError\u001b[0m                                 Traceback (most recent call last)",
            "\u001b[0;32m/tmp/ipython-input-45-963263633.py\u001b[0m in \u001b[0;36m<cell line: 0>\u001b[0;34m()\u001b[0m\n\u001b[1;32m      1\u001b[0m \u001b[0mname\u001b[0m \u001b[0;34m=\u001b[0m \u001b[0;34m'Nayem'\u001b[0m\u001b[0;34m\u001b[0m\u001b[0;34m\u001b[0m\u001b[0m\n\u001b[0;32m----> 2\u001b[0;31m \u001b[0mname\u001b[0m\u001b[0;34m[\u001b[0m\u001b[0;36m0\u001b[0m\u001b[0;34m]\u001b[0m \u001b[0;34m=\u001b[0m \u001b[0;34m'S'\u001b[0m\u001b[0;34m\u001b[0m\u001b[0;34m\u001b[0m\u001b[0m\n\u001b[0m\u001b[1;32m      3\u001b[0m \u001b[0mprint\u001b[0m\u001b[0;34m(\u001b[0m\u001b[0mname\u001b[0m\u001b[0;34m)\u001b[0m\u001b[0;34m\u001b[0m\u001b[0;34m\u001b[0m\u001b[0m\n",
            "\u001b[0;31mTypeError\u001b[0m: 'str' object does not support item assignment"
          ]
        }
      ]
    },
    {
      "cell_type": "code",
      "source": [
        "# instead you can assign a new string in it\n",
        "name = 'Sayem'\n",
        "print(name)\n",
        "\n",
        "# or\n",
        "name = name + ' Ahmed'\n",
        "print(name)"
      ],
      "metadata": {
        "colab": {
          "base_uri": "https://localhost:8080/"
        },
        "id": "zrNHWqyUnR14",
        "outputId": "75c58998-6ef6-4d05-82e9-ee466d0bea92"
      },
      "execution_count": 1,
      "outputs": [
        {
          "output_type": "stream",
          "name": "stdout",
          "text": [
            "Sayem\n",
            "Sayem Ahmed\n"
          ]
        }
      ]
    },
    {
      "cell_type": "markdown",
      "source": [
        "**Escape Sequences**"
      ],
      "metadata": {
        "id": "4imHIB1N2wz1"
      }
    },
    {
      "cell_type": "code",
      "source": [
        "print('I will span in\\ntwo lines')\n",
        "print('I will use a\\t tab space')\n",
        "print('I have a back slash : \\\\')"
      ],
      "metadata": {
        "colab": {
          "base_uri": "https://localhost:8080/"
        },
        "id": "rLMcf7M621Dg",
        "outputId": "f057d479-6403-497f-d7f2-a3dceb4b4a81"
      },
      "execution_count": 7,
      "outputs": [
        {
          "output_type": "stream",
          "name": "stdout",
          "text": [
            "I will span in\n",
            "two lines\n",
            "I will use a\t tab space\n",
            "I have a back slash : \\\n"
          ]
        }
      ]
    },
    {
      "cell_type": "markdown",
      "source": [
        "**String Methods**"
      ],
      "metadata": {
        "id": "utsveSIg3bY9"
      }
    },
    {
      "cell_type": "code",
      "source": [
        "sentence = 'this is a new sentence'\n",
        "# print(sentence)\n",
        "\n",
        "sentence = sentence.upper()\n",
        "print(sentence)"
      ],
      "metadata": {
        "colab": {
          "base_uri": "https://localhost:8080/"
        },
        "id": "CAG3kXsX3eHX",
        "outputId": "5dae5612-8e17-4be5-f8ae-cb39ac1fbb28"
      },
      "execution_count": 11,
      "outputs": [
        {
          "output_type": "stream",
          "name": "stdout",
          "text": [
            "THIS IS A NEW SENTENCE\n"
          ]
        }
      ]
    },
    {
      "cell_type": "code",
      "source": [
        "# replace\n",
        "sentence = sentence.lower().replace('new', 'modified')\n",
        "print(sentence)"
      ],
      "metadata": {
        "colab": {
          "base_uri": "https://localhost:8080/"
        },
        "id": "VIHysdOQ4D49",
        "outputId": "08b0a5e3-1b2d-4773-c3c2-c1337b732d54"
      },
      "execution_count": 13,
      "outputs": [
        {
          "output_type": "stream",
          "name": "stdout",
          "text": [
            "this is a modified sentence\n"
          ]
        }
      ]
    },
    {
      "cell_type": "code",
      "source": [
        "# find\n",
        "print(sentence.find('is')) # found it in index 2\n",
        "print(sentence.find('exclude')) # return -1 if not found"
      ],
      "metadata": {
        "colab": {
          "base_uri": "https://localhost:8080/"
        },
        "id": "tt24l4W84msU",
        "outputId": "e991275f-94a5-49cc-823a-f49023f98fed"
      },
      "execution_count": 18,
      "outputs": [
        {
          "output_type": "stream",
          "name": "stdout",
          "text": [
            "2\n",
            "-1\n"
          ]
        }
      ]
    },
    {
      "cell_type": "markdown",
      "source": [
        "**Format string in python**"
      ],
      "metadata": {
        "id": "dpCfaacU6OBr"
      }
    },
    {
      "cell_type": "code",
      "source": [
        "name = 'Nayem'\n",
        "age = 25\n",
        "\n",
        "print(f'I am {name} and {age + 1} years old') # modern approach\n",
        "print('I am {} and {} years old'.format(name, age)) # second system using format\n",
        "print('I am %s and %d years old' % (name, age)) # oldest approach"
      ],
      "metadata": {
        "colab": {
          "base_uri": "https://localhost:8080/"
        },
        "id": "7TFhNaDW6TZj",
        "outputId": "62121c77-928e-430b-e942-d24c66d557d5"
      },
      "execution_count": 32,
      "outputs": [
        {
          "output_type": "stream",
          "name": "stdout",
          "text": [
            "I am Nayem and 26 years old\n",
            "I am Nayem and 25 years old\n",
            "I am Nayem and 25 years old\n"
          ]
        }
      ]
    },
    {
      "cell_type": "markdown",
      "source": [
        "**Raw String**\n",
        "used to tell python to consider \\ (backslash) as literal, not **escape sequence**"
      ],
      "metadata": {
        "id": "NEeUF0Mw7Jcw"
      }
    },
    {
      "cell_type": "code",
      "source": [
        "regular_string = 'C:\\folder\\file.txt'\n",
        "print(regular_string) # escape character\n",
        "\n",
        "# use raw string\n",
        "raw_string = r'C:\\folder\\file.txt'\n",
        "print(raw_string)"
      ],
      "metadata": {
        "colab": {
          "base_uri": "https://localhost:8080/"
        },
        "id": "EaK3HcZj7VR7",
        "outputId": "b33ac32d-d6fa-405b-fa20-87a813677318"
      },
      "execution_count": 27,
      "outputs": [
        {
          "output_type": "stream",
          "name": "stdout",
          "text": [
            "C:\folder\file.txt\n",
            "C:\\folder\\file.txt\n"
          ]
        }
      ]
    }
  ]
}